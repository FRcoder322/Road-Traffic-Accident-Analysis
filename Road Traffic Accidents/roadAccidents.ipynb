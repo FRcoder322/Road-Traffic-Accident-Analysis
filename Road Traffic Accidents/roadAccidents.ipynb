{
 "cells": [
  {
   "cell_type": "code",
   "execution_count": 7,
   "metadata": {},
   "outputs": [
    {
     "name": "stdout",
     "output_type": "stream",
     "text": [
      "<class 'pandas.core.frame.DataFrame'>\n",
      "RangeIndex: 8756 entries, 0 to 8755\n",
      "Data columns (total 12 columns):\n",
      " #   Column               Non-Null Count  Dtype  \n",
      "---  ------               --------------  -----  \n",
      " 0   accidents            8756 non-null   int64  \n",
      " 1   traffic_fine_amount  8756 non-null   float64\n",
      " 2   traffic_density      8756 non-null   float64\n",
      " 3   traffic_lights       8756 non-null   float64\n",
      " 4   pavement_quality     8756 non-null   float64\n",
      " 5   urban_area           8756 non-null   int64  \n",
      " 6   average_speed        8756 non-null   float64\n",
      " 7   rain_intensity       8756 non-null   float64\n",
      " 8   vehicle_count        8756 non-null   float64\n",
      " 9   time_of_day          8756 non-null   float64\n",
      " 10  Variable             8756 non-null   object \n",
      " 11  Description          8756 non-null   object \n",
      "dtypes: float64(8), int64(2), object(2)\n",
      "memory usage: 821.0+ KB\n"
     ]
    }
   ],
   "source": [
    "# Import necessary libraries\n",
    "import pandas as pd\n",
    "import seaborn as sns\n",
    "import matplotlib\n",
    "\n",
    "# Load data from a CSV file\n",
    "data = pd.read_csv('/Users/admin/Desktop/Dev/DevProject/Python projects/myenv/Dataset/traffic_accidents_dict new.csv')\n",
    "data.info()"
   ]
  },
  {
   "cell_type": "code",
   "execution_count": null,
   "metadata": {},
   "outputs": [],
   "source": []
  }
 ],
 "metadata": {
  "kernelspec": {
   "display_name": "myenv",
   "language": "python",
   "name": "python3"
  },
  "language_info": {
   "codemirror_mode": {
    "name": "ipython",
    "version": 3
   },
   "file_extension": ".py",
   "mimetype": "text/x-python",
   "name": "python",
   "nbconvert_exporter": "python",
   "pygments_lexer": "ipython3",
   "version": "3.13.2"
  }
 },
 "nbformat": 4,
 "nbformat_minor": 2
}
